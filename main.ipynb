{
  "nbformat": 4,
  "nbformat_minor": 0,
  "metadata": {
    "colab": {
      "provenance": [],
      "authorship_tag": "ABX9TyPZhqdQftcjNUScC92YEdF0"
    },
    "kernelspec": {
      "name": "python3",
      "display_name": "Python 3"
    },
    "language_info": {
      "name": "python"
    }
  },
  "cells": [
    {
      "cell_type": "code",
      "execution_count": 1,
      "metadata": {
        "colab": {
          "base_uri": "https://localhost:8080/"
        },
        "id": "cRTteTAX4WeD",
        "outputId": "1c58680f-f0a2-48c0-f693-d140d00f8cc7"
      },
      "outputs": [
        {
          "output_type": "stream",
          "name": "stdout",
          "text": [
            "Plant Identifier - Project 1 - TEMA\n"
          ]
        }
      ],
      "source": [
        "print(\"Plant Identifier - Project 1 - TEMA\")"
      ]
    }
  ]
}