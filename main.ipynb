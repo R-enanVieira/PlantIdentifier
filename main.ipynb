{
  "nbformat": 4,
  "nbformat_minor": 0,
  "metadata": {
    "colab": {
      "provenance": [],
      "toc_visible": true,
      "mount_file_id": "1m4O9INW5T1TgvkZyWtFPGteQ6FkpEsgs",
      "authorship_tag": "ABX9TyPrbE8v0EzxkE43BFzioBuL"
    },
    "kernelspec": {
      "name": "python3",
      "display_name": "Python 3"
    },
    "language_info": {
      "name": "python"
    }
  },
  "cells": [
    {
      "cell_type": "markdown",
      "source": [
        "# Trabalho 1 - Tópicos Especiais em Matemática Aplicada\n",
        "\n",
        "**Alunos/Matricula:** João V. Farias & Renan V. Guedes / 221022604 & 221031363\n",
        "\n",
        "**Arquitetura Usada:**\n",
        "\n",
        "**Dataset Link:** [V1: Nonsegmented single plants (1.7GB)](https://vision.eng.au.dk/?download=/data/WeedData/Nonsegmented.zip)\n"
      ],
      "metadata": {
        "id": "llnvmdrQIggm"
      }
    },
    {
      "cell_type": "markdown",
      "source": [
        "### Rede Neural para determinar espécia de uma muda, dada sua imagem.\n",
        "\n",
        "**Sobre o Dataset:** O dataset de mudas de plantas contém imagens de aproximadamente `960 plantas únicas` pertencentes a `12 espécies` em vários estágios de crescimento. Ele compreende imagens RGB anotadas com uma resolução física de aproximadamente `10 pixels por mm`.\n"
      ],
      "metadata": {
        "id": "mRPPdxe4LQhQ"
      }
    },
    {
      "cell_type": "code",
      "execution_count": 3,
      "metadata": {
        "colab": {
          "base_uri": "https://localhost:8080/"
        },
        "id": "cRTteTAX4WeD",
        "outputId": "d26f82d8-55f8-4baf-de03-8f695a59e860"
      },
      "outputs": [
        {
          "output_type": "stream",
          "name": "stdout",
          "text": [
            "Plant Identifier - Project 1 | TEMA\n"
          ]
        }
      ],
      "source": [
        "print(\"Plant Identifier - Project 1 | TEMA\")"
      ]
    },
    {
      "cell_type": "markdown",
      "source": [
        "# Tratamento dos dados\n",
        "\n",
        "- ?Redisionamento (uniformizar o tamanho das imagens)\n",
        "- Normalização (valores dos pixels entre 0 e 1 `[dividir por 255]`)\n",
        "- ?Data Augmentation (gerar variações das imagens `(rotações, espelhamentos, etc.)` para aumentar a diversidade do dataset)\n",
        "- Separar Dataset em treino e teste"
      ],
      "metadata": {
        "id": "NX_zqIUgTXhB"
      }
    },
    {
      "cell_type": "markdown",
      "source": [
        "# Construção e Treinamento da NN\n",
        "\n",
        "Para um modelo do zero, construir as camadas:\n",
        "\n",
        "- Conv2D: Para extrair características.\n",
        "- Pooling (MaxPooling2D): Para reduzir dimensionalidade.\n",
        "- Dropout: Para evitar overfitting.\n",
        "- Dense: Para tomar decisões baseadas nas características extraídas."
      ],
      "metadata": {
        "id": "zIBFkMuqTc3B"
      }
    },
    {
      "cell_type": "markdown",
      "source": [
        "# Avaliação e Teste\n",
        "\n",
        "- Avaliação no set de Teste\n",
        "- Matriz de Confusão\n",
        "- Acurácia Geral"
      ],
      "metadata": {
        "id": "9ZrbJ-_ITkUy"
      }
    }
  ]
}