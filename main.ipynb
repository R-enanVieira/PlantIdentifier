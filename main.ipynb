{
  "nbformat": 4,
  "nbformat_minor": 0,
  "metadata": {
    "colab": {
      "provenance": [],
      "mount_file_id": "1m4O9INW5T1TgvkZyWtFPGteQ6FkpEsgs",
      "authorship_tag": "ABX9TyO7GK472XbsH/EVFGDfI8TL"
    },
    "kernelspec": {
      "name": "python3",
      "display_name": "Python 3"
    },
    "language_info": {
      "name": "python"
    }
  },
  "cells": [
    {
      "cell_type": "markdown",
      "source": [
        "# Trabalho 1 - Tópicos Especiais em Matemática Aplicada\n",
        "\n",
        "**Alunos/Matricula:** João V. Farias & Renan V. Guedes / 221022604 & 221031363\n",
        "\n",
        "**Arquitetura Usada:**\n",
        "\n",
        "**Dataset Link:** [V1: Nonsegmented single plants (1.7GB)](https://vision.eng.au.dk/?download=/data/WeedData/Nonsegmented.zip)\n"
      ],
      "metadata": {
        "id": "llnvmdrQIggm"
      }
    },
    {
      "cell_type": "markdown",
      "source": [
        "### Rede Neural para determinar espécia de uma muda, dada sua imagem.\n",
        "\n",
        "**Sobre o Dataset:** O dataset de mudas de plantas contém imagens de aproximadamente `960 plantas únicas` pertencentes a `12 espécies` em vários estágios de crescimento. Ele compreende imagens RGB anotadas com uma resolução física de aproximadamente `10 pixels por mm`.\n"
      ],
      "metadata": {
        "id": "mRPPdxe4LQhQ"
      }
    },
    {
      "cell_type": "code",
      "source": [
        "from google.colab import drive\n",
        "drive.mount('/content/drive')\n",
        "\n",
        "dataset_path = '/content/drive/MyDrive/Colab Notebooks/Nonsegmented'"
      ],
      "metadata": {
        "colab": {
          "base_uri": "https://localhost:8080/"
        },
        "id": "mMtaoHFChF9E",
        "outputId": "f8df31fe-b09b-46a8-d4d0-1c2042e2a421"
      },
      "execution_count": 13,
      "outputs": [
        {
          "output_type": "stream",
          "name": "stdout",
          "text": [
            "Drive already mounted at /content/drive; to attempt to forcibly remount, call drive.mount(\"/content/drive\", force_remount=True).\n"
          ]
        }
      ]
    },
    {
      "cell_type": "markdown",
      "source": [
        "# Tratamento dos dados\n",
        "\n",
        "- ?Redisionamento (uniformizar o tamanho das imagens) ☑️\n",
        "- Normalização (valores dos pixels entre 0 e 1 `[dividir por 255]`) ☑️\n",
        "- ?Data Augmentation (gerar variações das imagens `(rotações, espelhamentos, etc.)` para aumentar a diversidade do dataset)\n",
        "- Separar Dataset em treino e teste ☑️"
      ],
      "metadata": {
        "id": "NX_zqIUgTXhB"
      }
    },
    {
      "cell_type": "code",
      "execution_count": 14,
      "metadata": {
        "colab": {
          "base_uri": "https://localhost:8080/"
        },
        "id": "cRTteTAX4WeD",
        "outputId": "aed8c335-42c0-4af6-e2b8-47b809f37d04"
      },
      "outputs": [
        {
          "output_type": "stream",
          "name": "stdout",
          "text": [
            "Found 4440 images belonging to 12 classes.\n",
            "Found 1104 images belonging to 12 classes.\n"
          ]
        }
      ],
      "source": [
        "from tensorflow.keras.preprocessing.image import ImageDataGenerator\n",
        "\n",
        "datagen = ImageDataGenerator(rescale=1./255, validation_split=0.2)\n",
        "\n",
        "train_generator = datagen.flow_from_directory(\n",
        "    dataset_path,\n",
        "    target_size=(128, 128),\n",
        "    batch_size=32,\n",
        "    class_mode='categorical',\n",
        "    subset='training'\n",
        ")\n",
        "\n",
        "validation_generator = datagen.flow_from_directory(\n",
        "    dataset_path,\n",
        "    target_size=(128, 128),\n",
        "    batch_size=32,\n",
        "    class_mode='categorical',\n",
        "    subset='validation'\n",
        ")"
      ]
    },
    {
      "cell_type": "markdown",
      "source": [
        "#### Preview do código acima"
      ],
      "metadata": {
        "id": "ZvcydMfioKam"
      }
    },
    {
      "cell_type": "code",
      "source": [
        "import matplotlib.pyplot as plt\n",
        "import numpy as np\n",
        "\n",
        "class_names = {v : k for k, v in train_generator.class_indices.items()}\n",
        "\n",
        "x, y = next(train_generator)\n",
        "\n",
        "for i in range(5):\n",
        "  plt.imshow(x[i])\n",
        "  class_index = np.argmax(y[i])\n",
        "  plt.title(f\"Classe: {class_names[class_index]}\")\n",
        "  plt.show()"
      ],
      "metadata": {
        "id": "DhmBGf2TjoF5"
      },
      "execution_count": null,
      "outputs": []
    },
    {
      "cell_type": "markdown",
      "source": [
        "# Construção e Treinamento da NN\n",
        "\n",
        "Para um modelo do zero, construir as camadas:\n",
        "\n",
        "- Conv2D: Para extrair características.\n",
        "- Pooling (MaxPooling2D): Para reduzir dimensionalidade.\n",
        "- Dropout: Para evitar overfitting.\n",
        "- Dense: Para tomar decisões baseadas nas características extraídas."
      ],
      "metadata": {
        "id": "zIBFkMuqTc3B"
      }
    },
    {
      "cell_type": "markdown",
      "source": [
        "# Avaliação e Teste\n",
        "\n",
        "- Avaliação no set de Teste\n",
        "- Matriz de Confusão\n",
        "- Acurácia Geral"
      ],
      "metadata": {
        "id": "9ZrbJ-_ITkUy"
      }
    }
  ]
}